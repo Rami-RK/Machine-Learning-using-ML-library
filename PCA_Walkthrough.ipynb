{
  "nbformat": 4,
  "nbformat_minor": 0,
  "metadata": {
    "colab": {
      "name": "PCA_Walkthrough.ipynb",
      "provenance": [],
      "collapsed_sections": [],
      "include_colab_link": true
    },
    "kernelspec": {
      "name": "python3",
      "display_name": "Python 3"
    },
    "language_info": {
      "name": "python"
    }
  },
  "cells": [
    {
      "cell_type": "markdown",
      "metadata": {
        "id": "view-in-github",
        "colab_type": "text"
      },
      "source": [
        "<a href=\"https://colab.research.google.com/github/Rami-RK/Machine-Learning-using-ML-library/blob/master/PCA_Walkthrough.ipynb\" target=\"_parent\"><img src=\"https://colab.research.google.com/assets/colab-badge.svg\" alt=\"Open In Colab\"/></a>"
      ]
    },
    {
      "cell_type": "markdown",
      "source": [
        "# IoT & Smart Analytics\n",
        "## A Program by IIIT-H and TalentSprint"
      ],
      "metadata": {
        "id": "dFpaTNvjG0Em"
      }
    },
    {
      "cell_type": "markdown",
      "source": [
        "## Learning Objectives\n",
        "At the end of the experiment, participants will be able to : \n",
        "* understand the importance of PCA\n",
        "* apply PCA"
      ],
      "metadata": {
        "id": "9tRjacE6RVLG"
      }
    },
    {
      "cell_type": "markdown",
      "source": [
        "#### Importing Required Packages"
      ],
      "metadata": {
        "id": "sADIeNSzG6AV"
      }
    },
    {
      "cell_type": "code",
      "execution_count": null,
      "metadata": {
        "id": "Kv9URIByyX7r"
      },
      "outputs": [],
      "source": [
        "from sklearn.datasets import fetch_openml\n",
        "import numpy as np\n",
        "import matplotlib.pyplot as plt\n",
        "import matplotlib as mpl\n",
        "from sklearn.decomposition import PCA\n",
        "from sklearn.model_selection import train_test_split\n",
        "from sklearn.linear_model import SGDClassifier\n",
        "from sklearn.model_selection import cross_val_score"
      ]
    },
    {
      "cell_type": "markdown",
      "source": [
        "Run given below syntaxes in a different cell to install libraries if required. \\\\\n",
        "!pip install sklearn \\\\\n",
        "!pip install pandas \\\\\n",
        "!pip install matplotlib \\\\"
      ],
      "metadata": {
        "id": "xn71QyZ1b2V8"
      }
    },
    {
      "cell_type": "markdown",
      "metadata": {
        "id": "sHGcYrp9yX7u"
      },
      "source": [
        "#### Loading Data\n",
        "Using SciKit-Learns ```fetch_openml``` to load MNIST data."
      ]
    },
    {
      "cell_type": "code",
      "execution_count": null,
      "metadata": {
        "id": "earKcJjwyX7w"
      },
      "outputs": [],
      "source": [
        "mnist = fetch_openml('mnist_784', cache=False)"
      ]
    },
    {
      "cell_type": "markdown",
      "source": [
        "Understanding the data:"
      ],
      "metadata": {
        "id": "qnl9FqI5IVTn"
      }
    },
    {
      "cell_type": "code",
      "source": [
        "print('Data Shape :',mnist.data.shape,'\\n')\n",
        "print('Keys : ',mnist.keys(),'\\n')\n",
        "print('Description :', mnist.DESCR)"
      ],
      "metadata": {
        "colab": {
          "base_uri": "https://localhost:8080/"
        },
        "id": "okoDiKFkIUG4",
        "outputId": "1f0e1daf-7c1f-4578-882f-b1ff9ff743f1"
      },
      "execution_count": null,
      "outputs": [
        {
          "output_type": "stream",
          "name": "stdout",
          "text": [
            "Data Shape : (70000, 784) \n",
            "\n",
            "Keys :  dict_keys(['data', 'target', 'frame', 'categories', 'feature_names', 'target_names', 'DESCR', 'details', 'url']) \n",
            "\n",
            "Description : **Author**: Yann LeCun, Corinna Cortes, Christopher J.C. Burges  \n",
            "**Source**: [MNIST Website](http://yann.lecun.com/exdb/mnist/) - Date unknown  \n",
            "**Please cite**:  \n",
            "\n",
            "The MNIST database of handwritten digits with 784 features, raw data available at: http://yann.lecun.com/exdb/mnist/. It can be split in a training set of the first 60,000 examples, and a test set of 10,000 examples  \n",
            "\n",
            "It is a subset of a larger set available from NIST. The digits have been size-normalized and centered in a fixed-size image. It is a good database for people who want to try learning techniques and pattern recognition methods on real-world data while spending minimal efforts on preprocessing and formatting. The original black and white (bilevel) images from NIST were size normalized to fit in a 20x20 pixel box while preserving their aspect ratio. The resulting images contain grey levels as a result of the anti-aliasing technique used by the normalization algorithm. the images were centered in a 28x28 image by computing the center of mass of the pixels, and translating the image so as to position this point at the center of the 28x28 field.  \n",
            "\n",
            "With some classification methods (particularly template-based methods, such as SVM and K-nearest neighbors), the error rate improves when the digits are centered by bounding box rather than center of mass. If you do this kind of pre-processing, you should report it in your publications. The MNIST database was constructed from NIST's NIST originally designated SD-3 as their training set and SD-1 as their test set. However, SD-3 is much cleaner and easier to recognize than SD-1. The reason for this can be found on the fact that SD-3 was collected among Census Bureau employees, while SD-1 was collected among high-school students. Drawing sensible conclusions from learning experiments requires that the result be independent of the choice of training set and test among the complete set of samples. Therefore it was necessary to build a new database by mixing NIST's datasets.  \n",
            "\n",
            "The MNIST training set is composed of 30,000 patterns from SD-3 and 30,000 patterns from SD-1. Our test set was composed of 5,000 patterns from SD-3 and 5,000 patterns from SD-1. The 60,000 pattern training set contained examples from approximately 250 writers. We made sure that the sets of writers of the training set and test set were disjoint. SD-1 contains 58,527 digit images written by 500 different writers. In contrast to SD-3, where blocks of data from each writer appeared in sequence, the data in SD-1 is scrambled. Writer identities for SD-1 is available and we used this information to unscramble the writers. We then split SD-1 in two: characters written by the first 250 writers went into our new training set. The remaining 250 writers were placed in our test set. Thus we had two sets with nearly 30,000 examples each. The new training set was completed with enough examples from SD-3, starting at pattern # 0, to make a full set of 60,000 training patterns. Similarly, the new test set was completed with SD-3 examples starting at pattern # 35,000 to make a full set with 60,000 test patterns. Only a subset of 10,000 test images (5,000 from SD-1 and 5,000 from SD-3) is available on this site. The full 60,000 sample training set is available.\n",
            "\n",
            "Downloaded from openml.org.\n"
          ]
        }
      ]
    },
    {
      "cell_type": "markdown",
      "source": [
        "Separating features and targets"
      ],
      "metadata": {
        "id": "UW8RSWcNJa_3"
      }
    },
    {
      "cell_type": "code",
      "source": [
        "X, y = mnist[\"data\"].values, mnist[\"target\"].values\n",
        "print(X.shape)\n",
        "# Try running given below codes in new cells\n",
        "# mnist[\"data\"].info()\n",
        "# mnist[\"data\"].info()"
      ],
      "metadata": {
        "colab": {
          "base_uri": "https://localhost:8080/"
        },
        "id": "TkgSaLLM1meq",
        "outputId": "4a4fa263-7b14-461b-c888-3182034eeb90"
      },
      "execution_count": null,
      "outputs": [
        {
          "output_type": "stream",
          "name": "stdout",
          "text": [
            "(70000, 784)\n"
          ]
        }
      ]
    },
    {
      "cell_type": "markdown",
      "source": [
        "Visualizing the data set"
      ],
      "metadata": {
        "id": "kPC4Vf9wKMZt"
      }
    },
    {
      "cell_type": "code",
      "source": [
        "sample_digit = X[1000] # Check the result by putting different values in square bracket \n",
        "sample_digit_image = sample_digit.reshape(28, 28)\n",
        "plt.imshow(sample_digit_image, cmap=mpl.cm.binary)\n",
        "plt.show()"
      ],
      "metadata": {
        "colab": {
          "base_uri": "https://localhost:8080/",
          "height": 265
        },
        "id": "bJIJTne62IVV",
        "outputId": "a701df8c-dbe3-4fbd-a327-7c378143e328"
      },
      "execution_count": null,
      "outputs": [
        {
          "output_type": "display_data",
          "data": {
            "image/png": "[encoded data removed]",
            "text/plain": [
              "<Figure size 432x288 with 1 Axes>"
            ]
          },
          "metadata": {
            "needs_background": "light"
          }
        }
      ]
    },
    {
      "cell_type": "markdown",
      "source": [
        "Checking the corresponding label & converting the data type"
      ],
      "metadata": {
        "id": "pUFFJoczKxu2"
      }
    },
    {
      "cell_type": "code",
      "source": [
        "print(y[90])\n",
        "print(type(y[90]))\n",
        "y = y.astype(np.uint8)\n",
        "print(type(y[90]))\n"
      ],
      "metadata": {
        "colab": {
          "base_uri": "https://localhost:8080/"
        },
        "id": "LdYlDxz02wtT",
        "outputId": "b5181038-9044-4997-9978-3d34392f47a5"
      },
      "execution_count": null,
      "outputs": [
        {
          "output_type": "stream",
          "name": "stdout",
          "text": [
            "6\n",
            "<class 'str'>\n",
            "<class 'numpy.uint8'>\n"
          ]
        }
      ]
    },
    {
      "cell_type": "markdown",
      "source": [
        "#### Applying Classification Algorithm"
      ],
      "metadata": {
        "id": "weao4ORKMODK"
      }
    },
    {
      "cell_type": "markdown",
      "source": [
        "Train Test Split"
      ],
      "metadata": {
        "id": "ddLr5mNz7KhT"
      }
    },
    {
      "cell_type": "code",
      "source": [
        "X_train, X_test, y_train, y_test = X[:60000], X[60000:], y[:60000], y[60000:]\n",
        "# We can use 'train_test_split' as given below :\n",
        "# X_train, X_test, y_train, y_test = train_test_split(X, y)"
      ],
      "metadata": {
        "id": "Glssbs7k4NoQ"
      },
      "execution_count": null,
      "outputs": []
    },
    {
      "cell_type": "markdown",
      "source": [
        "Training:"
      ],
      "metadata": {
        "id": "5WoHACzWQPm6"
      }
    },
    {
      "cell_type": "code",
      "source": [
        "%%time\n",
        "sgd_clf = SGDClassifier(max_iter=1000, tol=1e-3, random_state=42)\n",
        "sgd_clf.fit(X_train, y_train)"
      ],
      "metadata": {
        "colab": {
          "base_uri": "https://localhost:8080/"
        },
        "id": "MSXnHceZ4Vzr",
        "outputId": "c6fd0640-3fd0-49eb-fa6b-2a7ae2cd0393"
      },
      "execution_count": null,
      "outputs": [
        {
          "output_type": "stream",
          "name": "stdout",
          "text": [
            "CPU times: user 2min 31s, sys: 148 ms, total: 2min 31s\n",
            "Wall time: 2min 30s\n"
          ]
        }
      ]
    },
    {
      "cell_type": "markdown",
      "source": [
        "Predicting an output for any given sample"
      ],
      "metadata": {
        "id": "rUhn7yoPMXi8"
      }
    },
    {
      "cell_type": "code",
      "source": [
        "sgd_clf.predict([sample_digit])"
      ],
      "metadata": {
        "colab": {
          "base_uri": "https://localhost:8080/"
        },
        "id": "807b7PAe5543",
        "outputId": "ebb456ca-40f1-4640-a2fc-4dc5b2d8a172"
      },
      "execution_count": null,
      "outputs": [
        {
          "output_type": "execute_result",
          "data": {
            "text/plain": [
              "array([0], dtype=uint8)"
            ]
          },
          "metadata": {},
          "execution_count": 15
        }
      ]
    },
    {
      "cell_type": "markdown",
      "source": [
        "### Measuring Accuracy"
      ],
      "metadata": {
        "id": "hs3r4Z3CErCy"
      }
    },
    {
      "cell_type": "code",
      "source": [
        "%%time\n",
        "from sklearn.model_selection import cross_val_score\n",
        "print(cross_val_score(sgd_clf, X_train, y_train, cv=3, scoring=\"accuracy\"))"
      ],
      "metadata": {
        "colab": {
          "base_uri": "https://localhost:8080/"
        },
        "id": "BopRlGKu6SRc",
        "outputId": "4e278854-fe1f-4497-b6d4-e9e3bbf51a3d"
      },
      "execution_count": null,
      "outputs": [
        {
          "output_type": "stream",
          "name": "stdout",
          "text": [
            "[0.87365 0.85835 0.8689 ]\n",
            "CPU times: user 3min 59s, sys: 489 ms, total: 3min 59s\n",
            "Wall time: 3min 58s\n"
          ]
        }
      ]
    },
    {
      "cell_type": "markdown",
      "source": [
        "#### Training the model after reducing the features using PCA"
      ],
      "metadata": {
        "id": "R1-NkOkz6fZY"
      }
    },
    {
      "cell_type": "markdown",
      "source": [
        "#### Applying PCA and reducing the number of features"
      ],
      "metadata": {
        "id": "7lrRKn366URr"
      }
    },
    {
      "cell_type": "code",
      "source": [
        "pca = PCA()\n",
        "pca.fit(X_train)\n",
        "cumsum = np.cumsum(pca.explained_variance_ratio_)\n",
        "d = np.argmax(cumsum >= 0.95) + 1\n",
        "d"
      ],
      "metadata": {
        "colab": {
          "base_uri": "https://localhost:8080/"
        },
        "id": "lYYdc7yj6_1R",
        "outputId": "ad54257d-06f4-4dbd-a6d0-96848e77712c"
      },
      "execution_count": null,
      "outputs": [
        {
          "output_type": "execute_result",
          "data": {
            "text/plain": [
              "154"
            ]
          },
          "metadata": {},
          "execution_count": 17
        }
      ]
    },
    {
      "cell_type": "code",
      "source": [
        "784"
      ],
      "metadata": {
        "id": "S8AeUgCjYQ_L"
      },
      "execution_count": null,
      "outputs": []
    },
    {
      "cell_type": "markdown",
      "source": [
        "Understanding each syntax by running in individual cells"
      ],
      "metadata": {
        "id": "uPI8ucFnM9_4"
      }
    },
    {
      "cell_type": "code",
      "source": [
        "pca.explained_variance_ratio_"
      ],
      "metadata": {
        "id": "UZe3tZrsM144"
      },
      "execution_count": null,
      "outputs": []
    },
    {
      "cell_type": "code",
      "source": [
        "cumsum=np.cumsum(pca.explained_variance_ratio_)\n",
        "cumsum"
      ],
      "metadata": {
        "id": "MkWAmKiJ7mb8"
      },
      "execution_count": null,
      "outputs": []
    },
    {
      "cell_type": "markdown",
      "source": [
        "#### Visualizing the cumsum"
      ],
      "metadata": {
        "id": "QkZ0kl8wNoxX"
      }
    },
    {
      "cell_type": "code",
      "source": [
        "n=len(cumsum)\n",
        "print('Total number of features :', n,'\\n')\n",
        "xx=np.arange(1,n+1)\n",
        "plt.plot(xx,cumsum)"
      ],
      "metadata": {
        "colab": {
          "base_uri": "https://localhost:8080/",
          "height": 320
        },
        "id": "222bH74CNgBJ",
        "outputId": "b70b27e4-ea74-4256-bf8c-e01b1614e2d7"
      },
      "execution_count": null,
      "outputs": [
        {
          "output_type": "stream",
          "name": "stdout",
          "text": [
            "Total number of features : 784 \n",
            "\n"
          ]
        },
        {
          "output_type": "execute_result",
          "data": {
            "text/plain": [
              "[<matplotlib.lines.Line2D at 0x7f12f39e65d0>]"
            ]
          },
          "metadata": {},
          "execution_count": 14
        },
        {
          "output_type": "display_data",
          "data": {
            "image/png": "[encoded data removed]",
            "text/plain": [
              "<Figure size 432x288 with 1 Axes>"
            ]
          },
          "metadata": {
            "needs_background": "light"
          }
        }
      ]
    },
    {
      "cell_type": "markdown",
      "source": [
        "#### Reducing the features of Training data using PCA"
      ],
      "metadata": {
        "id": "oW9rJNB7Oxy4"
      }
    },
    {
      "cell_type": "code",
      "source": [
        "pca=PCA(n_components=154)\n",
        "X_train_reduced=pca.fit_transform(X_train)"
      ],
      "metadata": {
        "id": "ZSzvd0IV_Fh4"
      },
      "execution_count": null,
      "outputs": []
    },
    {
      "cell_type": "code",
      "source": [
        "X_train_reduced.shape"
      ],
      "metadata": {
        "colab": {
          "base_uri": "https://localhost:8080/"
        },
        "id": "8ZseMGqybUct",
        "outputId": "0d0162a9-49bb-4d87-db0d-8933e6f3f0ae"
      },
      "execution_count": null,
      "outputs": [
        {
          "output_type": "execute_result",
          "data": {
            "text/plain": [
              "(60000, 154)"
            ]
          },
          "metadata": {},
          "execution_count": 26
        }
      ]
    },
    {
      "cell_type": "markdown",
      "source": [
        "#### Similarly reducing the features of Test data using PCA\n",
        "visualizing any one data: "
      ],
      "metadata": {
        "id": "yZ8TG7BJAO_n"
      }
    },
    {
      "cell_type": "code",
      "source": [
        "sample_digit = X_test[110]\n",
        "sample_digit_image = sample_digit.reshape(28, 28)\n",
        "plt.imshow(sample_digit_image, cmap=mpl.cm.binary)\n",
        "plt.show()"
      ],
      "metadata": {
        "colab": {
          "base_uri": "https://localhost:8080/",
          "height": 265
        },
        "id": "i_pKtzouAODX",
        "outputId": "46d97a14-5793-4280-8cdc-d136591ee596"
      },
      "execution_count": null,
      "outputs": [
        {
          "output_type": "display_data",
          "data": {
            "image/png": "[encoded data removed]",
            "text/plain": [
              "<Figure size 432x288 with 1 Axes>"
            ]
          },
          "metadata": {
            "needs_background": "light"
          }
        }
      ]
    },
    {
      "cell_type": "markdown",
      "source": [
        "Reducing Test data feature:"
      ],
      "metadata": {
        "id": "eBhO3yAiPby6"
      }
    },
    {
      "cell_type": "code",
      "source": [
        "X_test_reduced=pca.fit_transform(X_test)"
      ],
      "metadata": {
        "id": "C-R4-F4z_yac"
      },
      "execution_count": null,
      "outputs": []
    },
    {
      "cell_type": "markdown",
      "source": [
        "#### Applying Classification Algorithm after PCA\n",
        "Now apply classification operation in 'X_reduced' data. While most of the variance(95%) is preserved, the dataset is now less than 20% of its original size. This speeds up the classification algorithm tremendously."
      ],
      "metadata": {
        "id": "ZStfDqFY_N2h"
      }
    },
    {
      "cell_type": "markdown",
      "source": [
        "Training:"
      ],
      "metadata": {
        "id": "tt6t2maBP-N9"
      }
    },
    {
      "cell_type": "code",
      "source": [
        "%%time\n",
        "from sklearn.linear_model import SGDClassifier\n",
        "sgd_clf = SGDClassifier(max_iter=1000, tol=1e-3, random_state=42)\n",
        "sgd_clf.fit(X_train_reduced, y_train)"
      ],
      "metadata": {
        "colab": {
          "base_uri": "https://localhost:8080/"
        },
        "id": "TdeHpdRb_W9v",
        "outputId": "75b48e46-0385-4580-b284-a3998d0b36a5"
      },
      "execution_count": null,
      "outputs": [
        {
          "output_type": "stream",
          "name": "stdout",
          "text": [
            "CPU times: user 44.3 s, sys: 37.2 ms, total: 44.3 s\n",
            "Wall time: 44.4 s\n"
          ]
        }
      ]
    },
    {
      "cell_type": "code",
      "source": [
        "y"
      ],
      "metadata": {
        "colab": {
          "base_uri": "https://localhost:8080/"
        },
        "id": "VS9kC_yhcuc-",
        "outputId": "18786f9b-34c4-4d54-91cb-737d042402ae"
      },
      "execution_count": null,
      "outputs": [
        {
          "output_type": "execute_result",
          "data": {
            "text/plain": [
              "array([5, 0, 4, ..., 4, 5, 6], dtype=uint8)"
            ]
          },
          "metadata": {},
          "execution_count": 32
        }
      ]
    },
    {
      "cell_type": "markdown",
      "source": [
        "Prediction:"
      ],
      "metadata": {
        "id": "crSl-UAwQA5V"
      }
    },
    {
      "cell_type": "code",
      "source": [
        "sgd_clf.predict([X_test_reduced[10]])"
      ],
      "metadata": {
        "colab": {
          "base_uri": "https://localhost:8080/"
        },
        "id": "JinJIk_H_fHg",
        "outputId": "82a23431-24eb-4229-a9d6-46e2c68d7007"
      },
      "execution_count": null,
      "outputs": [
        {
          "output_type": "execute_result",
          "data": {
            "text/plain": [
              "array([0], dtype=uint8)"
            ]
          },
          "metadata": {},
          "execution_count": 33
        }
      ]
    },
    {
      "cell_type": "code",
      "source": [
        "y_test[10]"
      ],
      "metadata": {
        "colab": {
          "base_uri": "https://localhost:8080/"
        },
        "id": "DSzy17l8dLCR",
        "outputId": "907b0667-9e2f-4b29-aa30-1cdf7a4d7e64"
      },
      "execution_count": null,
      "outputs": [
        {
          "output_type": "execute_result",
          "data": {
            "text/plain": [
              "0"
            ]
          },
          "metadata": {},
          "execution_count": 34
        }
      ]
    },
    {
      "cell_type": "markdown",
      "source": [
        "### Measuring accuracy"
      ],
      "metadata": {
        "id": "X9Mp2myeEgFo"
      }
    },
    {
      "cell_type": "code",
      "source": [
        "%%time\n",
        "from sklearn.model_selection import cross_val_score\n",
        "print(cross_val_score(sgd_clf, X_train_reduced, y_train, cv=3, scoring=\"accuracy\"))"
      ],
      "metadata": {
        "colab": {
          "base_uri": "https://localhost:8080/"
        },
        "id": "awfh3dcZBg6A",
        "outputId": "cf5293f7-3cef-4f3b-dd94-99bdb751d263"
      },
      "execution_count": null,
      "outputs": [
        {
          "output_type": "stream",
          "name": "stdout",
          "text": [
            "[0.87635 0.87255 0.88775]\n",
            "CPU times: user 1min 24s, sys: 314 ms, total: 1min 24s\n",
            "Wall time: 1min 25s\n"
          ]
        }
      ]
    },
    {
      "cell_type": "markdown",
      "source": [
        "### Transform data back to its original space.\n",
        "Reducing feature of X_train using PCA:"
      ],
      "metadata": {
        "id": "noI28nNJCbPR"
      }
    },
    {
      "cell_type": "code",
      "source": [
        "pca=PCA(n_components=154)\n",
        "X_reduced=pca.fit_transform(X_train)"
      ],
      "metadata": {
        "id": "7MmtdJN5aTMV"
      },
      "execution_count": null,
      "outputs": []
    },
    {
      "cell_type": "markdown",
      "source": [
        "Recovering back the features of X_reduced:"
      ],
      "metadata": {
        "id": "ysg2vcBua2kN"
      }
    },
    {
      "cell_type": "code",
      "source": [
        "X_recovered = pca.inverse_transform(X_reduced)"
      ],
      "metadata": {
        "id": "shNpLwVaCfGV"
      },
      "execution_count": null,
      "outputs": []
    },
    {
      "cell_type": "markdown",
      "source": [
        "Visualizing and comparing with original data:\n",
        "* Recovered sample image"
      ],
      "metadata": {
        "id": "K49EFyX3bCiW"
      }
    },
    {
      "cell_type": "code",
      "source": [
        "sample_digit = X_recovered[20]\n",
        "sample_digit_image = sample_digit.reshape(28, 28)\n",
        "plt.imshow(sample_digit_image, cmap=mpl.cm.binary)\n",
        "plt.show()"
      ],
      "metadata": {
        "colab": {
          "base_uri": "https://localhost:8080/",
          "height": 265
        },
        "id": "bIvITcoBCix3",
        "outputId": "97b15493-9095-4c21-d605-7ede8fc373ec"
      },
      "execution_count": null,
      "outputs": [
        {
          "output_type": "display_data",
          "data": {
            "image/png": "[encoded data removed]",
            "text/plain": [
              "<Figure size 432x288 with 1 Axes>"
            ]
          },
          "metadata": {
            "needs_background": "light"
          }
        }
      ]
    },
    {
      "cell_type": "markdown",
      "source": [
        "* Original sample image"
      ],
      "metadata": {
        "id": "S3X4ij-SbUG7"
      }
    },
    {
      "cell_type": "code",
      "source": [
        "sample_digit = X_train[20]\n",
        "sample_digit_image = sample_digit.reshape(28, 28)\n",
        "plt.imshow(sample_digit_image, cmap=mpl.cm.binary)\n",
        "plt.show()"
      ],
      "metadata": {
        "colab": {
          "base_uri": "https://localhost:8080/",
          "height": 265
        },
        "id": "OdAtixL-VIZx",
        "outputId": "41e7d0d8-e672-4fe1-de7f-830eace8173e"
      },
      "execution_count": null,
      "outputs": [
        {
          "output_type": "display_data",
          "data": {
            "image/png": "[encoded data removed]",
            "text/plain": [
              "<Figure size 432x288 with 1 Axes>"
            ]
          },
          "metadata": {
            "needs_background": "light"
          }
        }
      ]
    }
  ]
}