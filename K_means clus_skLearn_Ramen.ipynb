{
 "cells": [
  {
   "cell_type": "markdown",
   "metadata": {},
   "source": [
    "#### Example: K-Means clustering using sklearn\n",
    "    Data file used in this problem can be downloaded from repository: ML from scratch."
   ]
  },
  {
   "cell_type": "code",
   "execution_count": 1,
   "metadata": {},
   "outputs": [],
   "source": [
    "import numpy as np\n",
    "import matplotlib.pyplot as plt\n",
    "import pandas as pd"
   ]
  },
  {
   "cell_type": "code",
   "execution_count": 2,
   "metadata": {},
   "outputs": [
    {
     "data": {
      "text/html": [
       "<div>\n",
       "<style scoped>\n",
       "    .dataframe tbody tr th:only-of-type {\n",
       "        vertical-align: middle;\n",
       "    }\n",
       "\n",
       "    .dataframe tbody tr th {\n",
       "        vertical-align: top;\n",
       "    }\n",
       "\n",
       "    .dataframe thead th {\n",
       "        text-align: right;\n",
       "    }\n",
       "</style>\n",
       "<table border=\"1\" class=\"dataframe\">\n",
       "  <thead>\n",
       "    <tr style=\"text-align: right;\">\n",
       "      <th></th>\n",
       "      <th>SepalLength</th>\n",
       "      <th>SepalWidth</th>\n",
       "      <th>PetalLength</th>\n",
       "      <th>PetalWidth</th>\n",
       "      <th>Name</th>\n",
       "    </tr>\n",
       "  </thead>\n",
       "  <tbody>\n",
       "    <tr>\n",
       "      <th>0</th>\n",
       "      <td>5.1</td>\n",
       "      <td>3.5</td>\n",
       "      <td>1.4</td>\n",
       "      <td>0.2</td>\n",
       "      <td>Iris-setosa</td>\n",
       "    </tr>\n",
       "    <tr>\n",
       "      <th>1</th>\n",
       "      <td>4.9</td>\n",
       "      <td>3.0</td>\n",
       "      <td>1.4</td>\n",
       "      <td>0.2</td>\n",
       "      <td>Iris-setosa</td>\n",
       "    </tr>\n",
       "    <tr>\n",
       "      <th>2</th>\n",
       "      <td>4.7</td>\n",
       "      <td>3.2</td>\n",
       "      <td>1.3</td>\n",
       "      <td>0.2</td>\n",
       "      <td>Iris-setosa</td>\n",
       "    </tr>\n",
       "    <tr>\n",
       "      <th>3</th>\n",
       "      <td>4.6</td>\n",
       "      <td>3.1</td>\n",
       "      <td>1.5</td>\n",
       "      <td>0.2</td>\n",
       "      <td>Iris-setosa</td>\n",
       "    </tr>\n",
       "    <tr>\n",
       "      <th>4</th>\n",
       "      <td>5.0</td>\n",
       "      <td>3.6</td>\n",
       "      <td>1.4</td>\n",
       "      <td>0.2</td>\n",
       "      <td>Iris-setosa</td>\n",
       "    </tr>\n",
       "  </tbody>\n",
       "</table>\n",
       "</div>"
      ],
      "text/plain": [
       "   SepalLength  SepalWidth  PetalLength  PetalWidth         Name\n",
       "0          5.1         3.5          1.4         0.2  Iris-setosa\n",
       "1          4.9         3.0          1.4         0.2  Iris-setosa\n",
       "2          4.7         3.2          1.3         0.2  Iris-setosa\n",
       "3          4.6         3.1          1.5         0.2  Iris-setosa\n",
       "4          5.0         3.6          1.4         0.2  Iris-setosa"
      ]
     },
     "execution_count": 2,
     "metadata": {},
     "output_type": "execute_result"
    }
   ],
   "source": [
    "#importing the Iris dataset\n",
    "data = pd.read_csv('iris.csv')\n",
    "data.head()"
   ]
  },
  {
   "cell_type": "code",
   "execution_count": 3,
   "metadata": {
    "collapsed": true
   },
   "outputs": [
    {
     "data": {
      "text/plain": [
       "array([[5.1, 0.2],\n",
       "       [4.9, 0.2],\n",
       "       [4.7, 0.2],\n",
       "       [4.6, 0.2],\n",
       "       [5. , 0.2],\n",
       "       [5.4, 0.4],\n",
       "       [4.6, 0.3],\n",
       "       [5. , 0.2],\n",
       "       [4.4, 0.2],\n",
       "       [4.9, 0.1],\n",
       "       [5.4, 0.2],\n",
       "       [4.8, 0.2],\n",
       "       [4.8, 0.1],\n",
       "       [4.3, 0.1],\n",
       "       [5.8, 0.2],\n",
       "       [5.7, 0.4],\n",
       "       [5.4, 0.4],\n",
       "       [5.1, 0.3],\n",
       "       [5.7, 0.3],\n",
       "       [5.1, 0.3],\n",
       "       [5.4, 0.2],\n",
       "       [5.1, 0.4],\n",
       "       [4.6, 0.2],\n",
       "       [5.1, 0.5],\n",
       "       [4.8, 0.2],\n",
       "       [5. , 0.2],\n",
       "       [5. , 0.4],\n",
       "       [5.2, 0.2],\n",
       "       [5.2, 0.2],\n",
       "       [4.7, 0.2],\n",
       "       [4.8, 0.2],\n",
       "       [5.4, 0.4],\n",
       "       [5.2, 0.1],\n",
       "       [5.5, 0.2],\n",
       "       [4.9, 0.1],\n",
       "       [5. , 0.2],\n",
       "       [5.5, 0.2],\n",
       "       [4.9, 0.1],\n",
       "       [4.4, 0.2],\n",
       "       [5.1, 0.2],\n",
       "       [5. , 0.3],\n",
       "       [4.5, 0.3],\n",
       "       [4.4, 0.2],\n",
       "       [5. , 0.6],\n",
       "       [5.1, 0.4],\n",
       "       [4.8, 0.3],\n",
       "       [5.1, 0.2],\n",
       "       [4.6, 0.2],\n",
       "       [5.3, 0.2],\n",
       "       [5. , 0.2],\n",
       "       [7. , 1.4],\n",
       "       [6.4, 1.5],\n",
       "       [6.9, 1.5],\n",
       "       [5.5, 1.3],\n",
       "       [6.5, 1.5],\n",
       "       [5.7, 1.3],\n",
       "       [6.3, 1.6],\n",
       "       [4.9, 1. ],\n",
       "       [6.6, 1.3],\n",
       "       [5.2, 1.4],\n",
       "       [5. , 1. ],\n",
       "       [5.9, 1.5],\n",
       "       [6. , 1. ],\n",
       "       [6.1, 1.4],\n",
       "       [5.6, 1.3],\n",
       "       [6.7, 1.4],\n",
       "       [5.6, 1.5],\n",
       "       [5.8, 1. ],\n",
       "       [6.2, 1.5],\n",
       "       [5.6, 1.1],\n",
       "       [5.9, 1.8],\n",
       "       [6.1, 1.3],\n",
       "       [6.3, 1.5],\n",
       "       [6.1, 1.2],\n",
       "       [6.4, 1.3],\n",
       "       [6.6, 1.4],\n",
       "       [6.8, 1.4],\n",
       "       [6.7, 1.7],\n",
       "       [6. , 1.5],\n",
       "       [5.7, 1. ],\n",
       "       [5.5, 1.1],\n",
       "       [5.5, 1. ],\n",
       "       [5.8, 1.2],\n",
       "       [6. , 1.6],\n",
       "       [5.4, 1.5],\n",
       "       [6. , 1.6],\n",
       "       [6.7, 1.5],\n",
       "       [6.3, 1.3],\n",
       "       [5.6, 1.3],\n",
       "       [5.5, 1.3],\n",
       "       [5.5, 1.2],\n",
       "       [6.1, 1.4],\n",
       "       [5.8, 1.2],\n",
       "       [5. , 1. ],\n",
       "       [5.6, 1.3],\n",
       "       [5.7, 1.2],\n",
       "       [5.7, 1.3],\n",
       "       [6.2, 1.3],\n",
       "       [5.1, 1.1],\n",
       "       [5.7, 1.3],\n",
       "       [6.3, 2.5],\n",
       "       [5.8, 1.9],\n",
       "       [7.1, 2.1],\n",
       "       [6.3, 1.8],\n",
       "       [6.5, 2.2],\n",
       "       [7.6, 2.1],\n",
       "       [4.9, 1.7],\n",
       "       [7.3, 1.8],\n",
       "       [6.7, 1.8],\n",
       "       [7.2, 2.5],\n",
       "       [6.5, 2. ],\n",
       "       [6.4, 1.9],\n",
       "       [6.8, 2.1],\n",
       "       [5.7, 2. ],\n",
       "       [5.8, 2.4],\n",
       "       [6.4, 2.3],\n",
       "       [6.5, 1.8],\n",
       "       [7.7, 2.2],\n",
       "       [7.7, 2.3],\n",
       "       [6. , 1.5],\n",
       "       [6.9, 2.3],\n",
       "       [5.6, 2. ],\n",
       "       [7.7, 2. ],\n",
       "       [6.3, 1.8],\n",
       "       [6.7, 2.1],\n",
       "       [7.2, 1.8],\n",
       "       [6.2, 1.8],\n",
       "       [6.1, 1.8],\n",
       "       [6.4, 2.1],\n",
       "       [7.2, 1.6],\n",
       "       [7.4, 1.9],\n",
       "       [7.9, 2. ],\n",
       "       [6.4, 2.2],\n",
       "       [6.3, 1.5],\n",
       "       [6.1, 1.4],\n",
       "       [7.7, 2.3],\n",
       "       [6.3, 2.4],\n",
       "       [6.4, 1.8],\n",
       "       [6. , 1.8],\n",
       "       [6.9, 2.1],\n",
       "       [6.7, 2.4],\n",
       "       [6.9, 2.3],\n",
       "       [5.8, 1.9],\n",
       "       [6.8, 2.3],\n",
       "       [6.7, 2.5],\n",
       "       [6.7, 2.3],\n",
       "       [6.3, 1.9],\n",
       "       [6.5, 2. ],\n",
       "       [6.2, 2.3],\n",
       "       [5.9, 1.8]])"
      ]
     },
     "execution_count": 3,
     "metadata": {},
     "output_type": "execute_result"
    }
   ],
   "source": [
    "X=data.iloc[:,[0,3]].values\n",
    "X"
   ]
  },
  {
   "cell_type": "markdown",
   "metadata": {},
   "source": [
    "https://scikit-learn.org/stable/modules/generated/sklearn.cluster.KMeans.html"
   ]
  },
  {
   "cell_type": "markdown",
   "metadata": {},
   "source": [
    "class sklearn.cluster.KMeans(n_clusters=8, init=’k-means++’, n_init=10, max_iter=300, tol=0.0001, precompute_distances=’auto’, verbose=0, random_state=None, copy_x=True, n_jobs=None, algorithm=’auto’)"
   ]
  },
  {
   "attachments": {
    "cluster%20attributes.PNG": {
     "image/png": "[encoded data removed]"
    }
   },
   "cell_type": "markdown",
   "metadata": {},
   "source": [
    "![cluster%20attributes.PNG](attachment:cluster%20attributes.PNG)"
   ]
  },
  {
   "cell_type": "markdown",
   "metadata": {},
   "source": [
    "#### Methods:\n",
    "    * fit()\tCompute k-means clustering.\n",
    "    * fit_predict()\tCompute cluster centers and predict cluster index for each sample.\n",
    "    * predict()\tPredict the closest cluster each sample in X belongs to."
   ]
  },
  {
   "cell_type": "code",
   "execution_count": 9,
   "metadata": {},
   "outputs": [],
   "source": [
    "from sklearn.cluster import KMeans"
   ]
  },
  {
   "cell_type": "code",
   "execution_count": 10,
   "metadata": {},
   "outputs": [
    {
     "data": {
      "text/plain": [
       "KMeans(algorithm='auto', copy_x=True, init='k-means++', max_iter=300,\n",
       "    n_clusters=3, n_init=10, n_jobs=None, precompute_distances='auto',\n",
       "    random_state=None, tol=0.0001, verbose=0)"
      ]
     },
     "execution_count": 10,
     "metadata": {},
     "output_type": "execute_result"
    }
   ],
   "source": [
    "kmeans=KMeans(3) ## Remaining arguments are automatically taken\n",
    "kmeans.fit(X)"
   ]
  },
  {
   "cell_type": "code",
   "execution_count": 19,
   "metadata": {},
   "outputs": [
    {
     "data": {
      "text/plain": [
       "array([[5.006     , 3.418     ],\n",
       "       [6.81276596, 3.07446809],\n",
       "       [5.77358491, 2.69245283]])"
      ]
     },
     "execution_count": 19,
     "metadata": {},
     "output_type": "execute_result"
    }
   ],
   "source": [
    "kmeans.cluster_centers_"
   ]
  },
  {
   "cell_type": "code",
   "execution_count": 22,
   "metadata": {},
   "outputs": [
    {
     "data": {
      "text/plain": [
       "array([[6.81276596, 3.07446809],\n",
       "       [5.006     , 3.418     ],\n",
       "       [5.77358491, 2.69245283]])"
      ]
     },
     "execution_count": 22,
     "metadata": {},
     "output_type": "execute_result"
    }
   ],
   "source": [
    "C=kmeans.cluster_centers_\n",
    "C"
   ]
  },
  {
   "cell_type": "code",
   "execution_count": null,
   "metadata": {},
   "outputs": [],
   "source": [
    "kmeans.labels_"
   ]
  },
  {
   "cell_type": "code",
   "execution_count": 13,
   "metadata": {
    "collapsed": true
   },
   "outputs": [
    {
     "data": {
      "text/plain": [
       "array([[1],\n",
       "       [1],\n",
       "       [1],\n",
       "       [1],\n",
       "       [1],\n",
       "       [1],\n",
       "       [1],\n",
       "       [1],\n",
       "       [1],\n",
       "       [1],\n",
       "       [1],\n",
       "       [1],\n",
       "       [1],\n",
       "       [1],\n",
       "       [1],\n",
       "       [1],\n",
       "       [1],\n",
       "       [1],\n",
       "       [1],\n",
       "       [1],\n",
       "       [1],\n",
       "       [1],\n",
       "       [1],\n",
       "       [1],\n",
       "       [1],\n",
       "       [1],\n",
       "       [1],\n",
       "       [1],\n",
       "       [1],\n",
       "       [1],\n",
       "       [1],\n",
       "       [1],\n",
       "       [1],\n",
       "       [1],\n",
       "       [1],\n",
       "       [1],\n",
       "       [1],\n",
       "       [1],\n",
       "       [1],\n",
       "       [1],\n",
       "       [1],\n",
       "       [1],\n",
       "       [1],\n",
       "       [1],\n",
       "       [1],\n",
       "       [1],\n",
       "       [1],\n",
       "       [1],\n",
       "       [1],\n",
       "       [1],\n",
       "       [0],\n",
       "       [0],\n",
       "       [0],\n",
       "       [2],\n",
       "       [0],\n",
       "       [2],\n",
       "       [0],\n",
       "       [2],\n",
       "       [0],\n",
       "       [2],\n",
       "       [2],\n",
       "       [2],\n",
       "       [2],\n",
       "       [2],\n",
       "       [2],\n",
       "       [0],\n",
       "       [2],\n",
       "       [2],\n",
       "       [2],\n",
       "       [2],\n",
       "       [2],\n",
       "       [2],\n",
       "       [2],\n",
       "       [2],\n",
       "       [0],\n",
       "       [0],\n",
       "       [0],\n",
       "       [0],\n",
       "       [2],\n",
       "       [2],\n",
       "       [2],\n",
       "       [2],\n",
       "       [2],\n",
       "       [2],\n",
       "       [2],\n",
       "       [2],\n",
       "       [0],\n",
       "       [2],\n",
       "       [2],\n",
       "       [2],\n",
       "       [2],\n",
       "       [2],\n",
       "       [2],\n",
       "       [2],\n",
       "       [2],\n",
       "       [2],\n",
       "       [2],\n",
       "       [2],\n",
       "       [2],\n",
       "       [2],\n",
       "       [0],\n",
       "       [2],\n",
       "       [0],\n",
       "       [0],\n",
       "       [0],\n",
       "       [0],\n",
       "       [2],\n",
       "       [0],\n",
       "       [0],\n",
       "       [0],\n",
       "       [0],\n",
       "       [0],\n",
       "       [0],\n",
       "       [2],\n",
       "       [2],\n",
       "       [0],\n",
       "       [0],\n",
       "       [0],\n",
       "       [0],\n",
       "       [2],\n",
       "       [0],\n",
       "       [2],\n",
       "       [0],\n",
       "       [2],\n",
       "       [0],\n",
       "       [0],\n",
       "       [2],\n",
       "       [2],\n",
       "       [0],\n",
       "       [0],\n",
       "       [0],\n",
       "       [0],\n",
       "       [0],\n",
       "       [2],\n",
       "       [2],\n",
       "       [0],\n",
       "       [0],\n",
       "       [0],\n",
       "       [2],\n",
       "       [0],\n",
       "       [0],\n",
       "       [0],\n",
       "       [2],\n",
       "       [0],\n",
       "       [0],\n",
       "       [0],\n",
       "       [2],\n",
       "       [0],\n",
       "       [0],\n",
       "       [2]])"
      ]
     },
     "execution_count": 13,
     "metadata": {},
     "output_type": "execute_result"
    }
   ],
   "source": [
    "g=kmeans.labels_\n",
    "g=g[:,np.newaxis]\n",
    "g"
   ]
  },
  {
   "cell_type": "code",
   "execution_count": 12,
   "metadata": {
    "collapsed": true
   },
   "outputs": [
    {
     "data": {
      "text/plain": [
       "(1, 150)"
      ]
     },
     "execution_count": 12,
     "metadata": {},
     "output_type": "execute_result"
    }
   ],
   "source": [
    "g.shape ## Checking the size of labels"
   ]
  },
  {
   "cell_type": "code",
   "execution_count": 16,
   "metadata": {
    "collapsed": true
   },
   "outputs": [
    {
     "data": {
      "text/plain": [
       "array([[5.1, 3.5, 1. ],\n",
       "       [4.9, 3. , 1. ],\n",
       "       [4.7, 3.2, 1. ],\n",
       "       [4.6, 3.1, 1. ],\n",
       "       [5. , 3.6, 1. ],\n",
       "       [5.4, 3.9, 1. ],\n",
       "       [4.6, 3.4, 1. ],\n",
       "       [5. , 3.4, 1. ],\n",
       "       [4.4, 2.9, 1. ],\n",
       "       [4.9, 3.1, 1. ],\n",
       "       [5.4, 3.7, 1. ],\n",
       "       [4.8, 3.4, 1. ],\n",
       "       [4.8, 3. , 1. ],\n",
       "       [4.3, 3. , 1. ],\n",
       "       [5.8, 4. , 1. ],\n",
       "       [5.7, 4.4, 1. ],\n",
       "       [5.4, 3.9, 1. ],\n",
       "       [5.1, 3.5, 1. ],\n",
       "       [5.7, 3.8, 1. ],\n",
       "       [5.1, 3.8, 1. ],\n",
       "       [5.4, 3.4, 1. ],\n",
       "       [5.1, 3.7, 1. ],\n",
       "       [4.6, 3.6, 1. ],\n",
       "       [5.1, 3.3, 1. ],\n",
       "       [4.8, 3.4, 1. ],\n",
       "       [5. , 3. , 1. ],\n",
       "       [5. , 3.4, 1. ],\n",
       "       [5.2, 3.5, 1. ],\n",
       "       [5.2, 3.4, 1. ],\n",
       "       [4.7, 3.2, 1. ],\n",
       "       [4.8, 3.1, 1. ],\n",
       "       [5.4, 3.4, 1. ],\n",
       "       [5.2, 4.1, 1. ],\n",
       "       [5.5, 4.2, 1. ],\n",
       "       [4.9, 3.1, 1. ],\n",
       "       [5. , 3.2, 1. ],\n",
       "       [5.5, 3.5, 1. ],\n",
       "       [4.9, 3.1, 1. ],\n",
       "       [4.4, 3. , 1. ],\n",
       "       [5.1, 3.4, 1. ],\n",
       "       [5. , 3.5, 1. ],\n",
       "       [4.5, 2.3, 1. ],\n",
       "       [4.4, 3.2, 1. ],\n",
       "       [5. , 3.5, 1. ],\n",
       "       [5.1, 3.8, 1. ],\n",
       "       [4.8, 3. , 1. ],\n",
       "       [5.1, 3.8, 1. ],\n",
       "       [4.6, 3.2, 1. ],\n",
       "       [5.3, 3.7, 1. ],\n",
       "       [5. , 3.3, 1. ],\n",
       "       [7. , 3.2, 0. ],\n",
       "       [6.4, 3.2, 0. ],\n",
       "       [6.9, 3.1, 0. ],\n",
       "       [5.5, 2.3, 2. ],\n",
       "       [6.5, 2.8, 0. ],\n",
       "       [5.7, 2.8, 2. ],\n",
       "       [6.3, 3.3, 0. ],\n",
       "       [4.9, 2.4, 2. ],\n",
       "       [6.6, 2.9, 0. ],\n",
       "       [5.2, 2.7, 2. ],\n",
       "       [5. , 2. , 2. ],\n",
       "       [5.9, 3. , 2. ],\n",
       "       [6. , 2.2, 2. ],\n",
       "       [6.1, 2.9, 2. ],\n",
       "       [5.6, 2.9, 2. ],\n",
       "       [6.7, 3.1, 0. ],\n",
       "       [5.6, 3. , 2. ],\n",
       "       [5.8, 2.7, 2. ],\n",
       "       [6.2, 2.2, 2. ],\n",
       "       [5.6, 2.5, 2. ],\n",
       "       [5.9, 3.2, 2. ],\n",
       "       [6.1, 2.8, 2. ],\n",
       "       [6.3, 2.5, 2. ],\n",
       "       [6.1, 2.8, 2. ],\n",
       "       [6.4, 2.9, 0. ],\n",
       "       [6.6, 3. , 0. ],\n",
       "       [6.8, 2.8, 0. ],\n",
       "       [6.7, 3. , 0. ],\n",
       "       [6. , 2.9, 2. ],\n",
       "       [5.7, 2.6, 2. ],\n",
       "       [5.5, 2.4, 2. ],\n",
       "       [5.5, 2.4, 2. ],\n",
       "       [5.8, 2.7, 2. ],\n",
       "       [6. , 2.7, 2. ],\n",
       "       [5.4, 3. , 2. ],\n",
       "       [6. , 3.4, 2. ],\n",
       "       [6.7, 3.1, 0. ],\n",
       "       [6.3, 2.3, 2. ],\n",
       "       [5.6, 3. , 2. ],\n",
       "       [5.5, 2.5, 2. ],\n",
       "       [5.5, 2.6, 2. ],\n",
       "       [6.1, 3. , 2. ],\n",
       "       [5.8, 2.6, 2. ],\n",
       "       [5. , 2.3, 2. ],\n",
       "       [5.6, 2.7, 2. ],\n",
       "       [5.7, 3. , 2. ],\n",
       "       [5.7, 2.9, 2. ],\n",
       "       [6.2, 2.9, 2. ],\n",
       "       [5.1, 2.5, 2. ],\n",
       "       [5.7, 2.8, 2. ],\n",
       "       [6.3, 3.3, 0. ],\n",
       "       [5.8, 2.7, 2. ],\n",
       "       [7.1, 3. , 0. ],\n",
       "       [6.3, 2.9, 0. ],\n",
       "       [6.5, 3. , 0. ],\n",
       "       [7.6, 3. , 0. ],\n",
       "       [4.9, 2.5, 2. ],\n",
       "       [7.3, 2.9, 0. ],\n",
       "       [6.7, 2.5, 0. ],\n",
       "       [7.2, 3.6, 0. ],\n",
       "       [6.5, 3.2, 0. ],\n",
       "       [6.4, 2.7, 0. ],\n",
       "       [6.8, 3. , 0. ],\n",
       "       [5.7, 2.5, 2. ],\n",
       "       [5.8, 2.8, 2. ],\n",
       "       [6.4, 3.2, 0. ],\n",
       "       [6.5, 3. , 0. ],\n",
       "       [7.7, 3.8, 0. ],\n",
       "       [7.7, 2.6, 0. ],\n",
       "       [6. , 2.2, 2. ],\n",
       "       [6.9, 3.2, 0. ],\n",
       "       [5.6, 2.8, 2. ],\n",
       "       [7.7, 2.8, 0. ],\n",
       "       [6.3, 2.7, 2. ],\n",
       "       [6.7, 3.3, 0. ],\n",
       "       [7.2, 3.2, 0. ],\n",
       "       [6.2, 2.8, 2. ],\n",
       "       [6.1, 3. , 2. ],\n",
       "       [6.4, 2.8, 0. ],\n",
       "       [7.2, 3. , 0. ],\n",
       "       [7.4, 2.8, 0. ],\n",
       "       [7.9, 3.8, 0. ],\n",
       "       [6.4, 2.8, 0. ],\n",
       "       [6.3, 2.8, 2. ],\n",
       "       [6.1, 2.6, 2. ],\n",
       "       [7.7, 3. , 0. ],\n",
       "       [6.3, 3.4, 0. ],\n",
       "       [6.4, 3.1, 0. ],\n",
       "       [6. , 3. , 2. ],\n",
       "       [6.9, 3.1, 0. ],\n",
       "       [6.7, 3.1, 0. ],\n",
       "       [6.9, 3.1, 0. ],\n",
       "       [5.8, 2.7, 2. ],\n",
       "       [6.8, 3.2, 0. ],\n",
       "       [6.7, 3.3, 0. ],\n",
       "       [6.7, 3. , 0. ],\n",
       "       [6.3, 2.5, 2. ],\n",
       "       [6.5, 3. , 0. ],\n",
       "       [6.2, 3.4, 0. ],\n",
       "       [5.9, 3. , 2. ]])"
      ]
     },
     "execution_count": 16,
     "metadata": {},
     "output_type": "execute_result"
    }
   ],
   "source": [
    "group=np.hstack((X,g))\n",
    "group\n"
   ]
  },
  {
   "cell_type": "code",
   "execution_count": 20,
   "metadata": {},
   "outputs": [],
   "source": [
    "dg1=group[group[:,2]==0]\n",
    "dg2=group[group[:,2]==1]\n",
    "dg3=group[group[:,2]==2]"
   ]
  },
  {
   "cell_type": "code",
   "execution_count": null,
   "metadata": {},
   "outputs": [],
   "source": []
  },
  {
   "cell_type": "code",
   "execution_count": 21,
   "metadata": {},
   "outputs": [
    {
     "data": {
      "text/plain": [
       "<function matplotlib.pyplot.show(*args, **kw)>"
      ]
     },
     "execution_count": 21,
     "metadata": {},
     "output_type": "execute_result"
    },
    {
     "data": {
      "image/png": "[encoded data removed]",
      "text/plain": [
       "<Figure size 432x288 with 1 Axes>"
      ]
     },
     "metadata": {
      "needs_background": "light"
     },
     "output_type": "display_data"
    }
   ],
   "source": [
    "plt.scatter(dg1[:,0],dg1[:,1],color='K',s=25,marker='o',alpha=0.9)\n",
    "plt.scatter(dg2[:,0],dg2[:,1],color='R',s=25,marker='o',alpha=0.9)\n",
    "plt.scatter(dg3[:,0],dg3[:,1],color='G',s=25,marker='o',alpha=0.9)\n",
    "plt.scatter(C[:,0],C[:,1],s=100,c='yellow')\n",
    "plt.show"
   ]
  },
  {
   "cell_type": "markdown",
   "metadata": {},
   "source": [
    "### How to select number of cluter?\n",
    "Elbow method is used as given below and the number of cluster are taken \n",
    "which are on the elbow of graph: cost vs number of cluster.\n",
    "This part is done earlier and after getting proper number of cluster, we find best centroid and cluster labelling."
   ]
  },
  {
   "cell_type": "code",
   "execution_count": 41,
   "metadata": {},
   "outputs": [
    {
     "data": {
      "text/plain": [
       "37.12370212765957"
      ]
     },
     "execution_count": 41,
     "metadata": {},
     "output_type": "execute_result"
    }
   ],
   "source": [
    "kmeans.inertia_ ## this gives Within cluster sum of squares or cost\n"
   ]
  },
  {
   "attachments": {
    "cost%20function.PNG": {
     "image/png": "[encoded data removed]"
    }
   },
   "cell_type": "markdown",
   "metadata": {},
   "source": [
    "##### Cost/WCSS\n",
    "![cost%20function.PNG](attachment:cost%20function.PNG)"
   ]
  },
  {
   "cell_type": "code",
   "execution_count": 45,
   "metadata": {},
   "outputs": [],
   "source": [
    "#n_iter=100\n",
    "cost=np.zeros(9) ## also known as within cluster sum squares (WCSS)\n",
    "for K in range(1,9):\n",
    "    kmeans=KMeans(K)\n",
    "    kmeans.fit(X)\n",
    "    cost[K]=kmeans.inertia_\n",
    "   "
   ]
  },
  {
   "cell_type": "code",
   "execution_count": 46,
   "metadata": {},
   "outputs": [
    {
     "data": {
      "text/plain": [
       "array([  0.        , 130.18093333,  57.98240604,  37.12370213,\n",
       "        27.96175966,  20.97191337,  17.31482884,  14.71990952,\n",
       "        12.70080537])"
      ]
     },
     "execution_count": 46,
     "metadata": {},
     "output_type": "execute_result"
    }
   ],
   "source": [
    "cost"
   ]
  },
  {
   "cell_type": "code",
   "execution_count": 47,
   "metadata": {},
   "outputs": [],
   "source": [
    "cost=cost[1:]"
   ]
  },
  {
   "cell_type": "code",
   "execution_count": 48,
   "metadata": {},
   "outputs": [
    {
     "data": {
      "text/plain": [
       "array([130.18093333,  57.98240604,  37.12370213,  27.96175966,\n",
       "        20.97191337,  17.31482884,  14.71990952,  12.70080537])"
      ]
     },
     "execution_count": 48,
     "metadata": {},
     "output_type": "execute_result"
    }
   ],
   "source": [
    "cost"
   ]
  },
  {
   "cell_type": "code",
   "execution_count": 49,
   "metadata": {},
   "outputs": [
    {
     "data": {
      "image/png": "[encoded data removed]",
      "text/plain": [
       "<Figure size 432x288 with 1 Axes>"
      ]
     },
     "metadata": {
      "needs_background": "light"
     },
     "output_type": "display_data"
    }
   ],
   "source": [
    "plt.plot(range(1, 9), cost)\n",
    "plt.title('The elbow method')\n",
    "plt.xlabel('Number of clusters')\n",
    "plt.ylabel('cost') \n",
    "plt.show()"
   ]
  },
  {
   "cell_type": "markdown",
   "metadata": {},
   "source": [
    "Note: This elbow method is not always applicable. How to select number of cluster depends on types of data and application scenerio.Role of intuition comes into picture!!!"
   ]
  },
  {
   "cell_type": "code",
   "execution_count": 52,
   "metadata": {},
   "outputs": [
    {
     "data": {
      "text/plain": [
       "array([1])"
      ]
     },
     "execution_count": 52,
     "metadata": {},
     "output_type": "execute_result"
    }
   ],
   "source": [
    "kmeans.predict([[4.5, 3.5]]) ## Predicting for unseen data, this gives the group label to this data"
   ]
  },
  {
   "cell_type": "code",
   "execution_count": null,
   "metadata": {},
   "outputs": [],
   "source": [
    "Happy Learning. Best of Luck."
   ]
  },
  {
   "cell_type": "markdown",
   "metadata": {},
   "source": [
    "### Dedicated to Almighty!!!"
   ]
  }
 ],
 "metadata": {
  "kernelspec": {
   "display_name": "Python 3",
   "language": "python",
   "name": "python3"
  },
  "language_info": {
   "codemirror_mode": {
    "name": "ipython",
    "version": 3
   },
   "file_extension": ".py",
   "mimetype": "text/x-python",
   "name": "python",
   "nbconvert_exporter": "python",
   "pygments_lexer": "ipython3",
   "version": "3.7.1"
  }
 },
 "nbformat": 4,
 "nbformat_minor": 2
}
