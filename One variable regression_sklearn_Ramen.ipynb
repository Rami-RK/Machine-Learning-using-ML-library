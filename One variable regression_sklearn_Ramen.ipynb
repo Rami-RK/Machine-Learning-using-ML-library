{
 "cells": [
  {
   "cell_type": "code",
   "execution_count": 1,
   "metadata": {},
   "outputs": [],
   "source": [
    "import numpy as np\n",
    "import pandas as pd\n",
    "import matplotlib.pyplot as plt "
   ]
  },
  {
   "cell_type": "code",
   "execution_count": 2,
   "metadata": {
    "scrolled": true
   },
   "outputs": [
    {
     "data": {
      "text/html": [
       "<div>\n",
       "<style scoped>\n",
       "    .dataframe tbody tr th:only-of-type {\n",
       "        vertical-align: middle;\n",
       "    }\n",
       "\n",
       "    .dataframe tbody tr th {\n",
       "        vertical-align: top;\n",
       "    }\n",
       "\n",
       "    .dataframe thead th {\n",
       "        text-align: right;\n",
       "    }\n",
       "</style>\n",
       "<table border=\"1\" class=\"dataframe\">\n",
       "  <thead>\n",
       "    <tr style=\"text-align: right;\">\n",
       "      <th></th>\n",
       "      <th>0</th>\n",
       "      <th>1</th>\n",
       "    </tr>\n",
       "  </thead>\n",
       "  <tbody>\n",
       "    <tr>\n",
       "      <th>0</th>\n",
       "      <td>6.1101</td>\n",
       "      <td>17.5920</td>\n",
       "    </tr>\n",
       "    <tr>\n",
       "      <th>1</th>\n",
       "      <td>5.5277</td>\n",
       "      <td>9.1302</td>\n",
       "    </tr>\n",
       "    <tr>\n",
       "      <th>2</th>\n",
       "      <td>8.5186</td>\n",
       "      <td>13.6620</td>\n",
       "    </tr>\n",
       "    <tr>\n",
       "      <th>3</th>\n",
       "      <td>7.0032</td>\n",
       "      <td>11.8540</td>\n",
       "    </tr>\n",
       "    <tr>\n",
       "      <th>4</th>\n",
       "      <td>5.8598</td>\n",
       "      <td>6.8233</td>\n",
       "    </tr>\n",
       "  </tbody>\n",
       "</table>\n",
       "</div>"
      ],
      "text/plain": [
       "        0        1\n",
       "0  6.1101  17.5920\n",
       "1  5.5277   9.1302\n",
       "2  8.5186  13.6620\n",
       "3  7.0032  11.8540\n",
       "4  5.8598   6.8233"
      ]
     },
     "execution_count": 2,
     "metadata": {},
     "output_type": "execute_result"
    }
   ],
   "source": [
    "data=pd.read_csv('ex1data1.txt',header=None)\n",
    "data.head()\n",
    "# First column is the Population of a city and second column is the profit of the food truck in that city."
   ]
  },
  {
   "cell_type": "code",
   "execution_count": 4,
   "metadata": {},
   "outputs": [],
   "source": [
    "## data.to_csv(r'C:\\Users\\Ramendra\\Desktop\\Data Analysis Theory\\population.csv')\n",
    "## This is the way file is saved in your given location as csv file"
   ]
  },
  {
   "cell_type": "code",
   "execution_count": 3,
   "metadata": {},
   "outputs": [
    {
     "data": {
      "text/plain": [
       "<function matplotlib.pyplot.show(*args, **kw)>"
      ]
     },
     "execution_count": 3,
     "metadata": {},
     "output_type": "execute_result"
    },
    {
     "data": {
      "image/png": "[encoded data removed]",
      "text/plain": [
       "<Figure size 432x288 with 1 Axes>"
      ]
     },
     "metadata": {
      "needs_background": "light"
     },
     "output_type": "display_data"
    }
   ],
   "source": [
    "X=data.iloc[:,0].values\n",
    "Y=data.iloc[:,1].values\n",
    "m=len(Y)# gives number of training set\n",
    "plt.scatter(X,Y)\n",
    "plt.xlabel('Population of the city in 10,000')\n",
    "plt.ylabel('Profit of Appolo Pharmacy in 10,000')\n",
    "plt.show"
   ]
  },
  {
   "cell_type": "code",
   "execution_count": 4,
   "metadata": {},
   "outputs": [
    {
     "data": {
      "text/plain": [
       "array([ 6.1101,  5.5277,  8.5186,  7.0032,  5.8598,  8.3829,  7.4764,\n",
       "        8.5781,  6.4862,  5.0546,  5.7107, 14.164 ,  5.734 ,  8.4084,\n",
       "        5.6407,  5.3794,  6.3654,  5.1301,  6.4296,  7.0708,  6.1891,\n",
       "       20.27  ,  5.4901,  6.3261,  5.5649, 18.945 , 12.828 , 10.957 ,\n",
       "       13.176 , 22.203 ,  5.2524,  6.5894,  9.2482,  5.8918,  8.2111,\n",
       "        7.9334,  8.0959,  5.6063, 12.836 ,  6.3534,  5.4069,  6.8825,\n",
       "       11.708 ,  5.7737,  7.8247,  7.0931,  5.0702,  5.8014, 11.7   ,\n",
       "        5.5416,  7.5402,  5.3077,  7.4239,  7.6031,  6.3328,  6.3589,\n",
       "        6.2742,  5.6397,  9.3102,  9.4536,  8.8254,  5.1793, 21.279 ,\n",
       "       14.908 , 18.959 ,  7.2182,  8.2951, 10.236 ,  5.4994, 20.341 ,\n",
       "       10.136 ,  7.3345,  6.0062,  7.2259,  5.0269,  6.5479,  7.5386,\n",
       "        5.0365, 10.274 ,  5.1077,  5.7292,  5.1884,  6.3557,  9.7687,\n",
       "        6.5159,  8.5172,  9.1802,  6.002 ,  5.5204,  5.0594,  5.7077,\n",
       "        7.6366,  5.8707,  5.3054,  8.2934, 13.394 ,  5.4369])"
      ]
     },
     "execution_count": 4,
     "metadata": {},
     "output_type": "execute_result"
    }
   ],
   "source": [
    "X"
   ]
  },
  {
   "cell_type": "code",
   "execution_count": 5,
   "metadata": {},
   "outputs": [
    {
     "data": {
      "text/plain": [
       "(97,)"
      ]
     },
     "execution_count": 5,
     "metadata": {},
     "output_type": "execute_result"
    }
   ],
   "source": [
    "X.shape"
   ]
  },
  {
   "cell_type": "code",
   "execution_count": 6,
   "metadata": {},
   "outputs": [
    {
     "data": {
      "text/plain": [
       "array([17.592  ,  9.1302 , 13.662  , 11.854  ,  6.8233 , 11.886  ,\n",
       "        4.3483 , 12.     ,  6.5987 ,  3.8166 ,  3.2522 , 15.505  ,\n",
       "        3.1551 ,  7.2258 ,  0.71618,  3.5129 ,  5.3048 ,  0.56077,\n",
       "        3.6518 ,  5.3893 ,  3.1386 , 21.767  ,  4.263  ,  5.1875 ,\n",
       "        3.0825 , 22.638  , 13.501  ,  7.0467 , 14.692  , 24.147  ,\n",
       "       -1.22   ,  5.9966 , 12.134  ,  1.8495 ,  6.5426 ,  4.5623 ,\n",
       "        4.1164 ,  3.3928 , 10.117  ,  5.4974 ,  0.55657,  3.9115 ,\n",
       "        5.3854 ,  2.4406 ,  6.7318 ,  1.0463 ,  5.1337 ,  1.844  ,\n",
       "        8.0043 ,  1.0179 ,  6.7504 ,  1.8396 ,  4.2885 ,  4.9981 ,\n",
       "        1.4233 , -1.4211 ,  2.4756 ,  4.6042 ,  3.9624 ,  5.4141 ,\n",
       "        5.1694 , -0.74279, 17.929  , 12.054  , 17.054  ,  4.8852 ,\n",
       "        5.7442 ,  7.7754 ,  1.0173 , 20.992  ,  6.6799 ,  4.0259 ,\n",
       "        1.2784 ,  3.3411 , -2.6807 ,  0.29678,  3.8845 ,  5.7014 ,\n",
       "        6.7526 ,  2.0576 ,  0.47953,  0.20421,  0.67861,  7.5435 ,\n",
       "        5.3436 ,  4.2415 ,  6.7981 ,  0.92695,  0.152  ,  2.8214 ,\n",
       "        1.8451 ,  4.2959 ,  7.2029 ,  1.9869 ,  0.14454,  9.0551 ,\n",
       "        0.61705])"
      ]
     },
     "execution_count": 6,
     "metadata": {},
     "output_type": "execute_result"
    }
   ],
   "source": [
    "Y"
   ]
  },
  {
   "cell_type": "code",
   "execution_count": 7,
   "metadata": {},
   "outputs": [],
   "source": [
    "X=X[:,np.newaxis]"
   ]
  },
  {
   "cell_type": "code",
   "execution_count": 8,
   "metadata": {
    "collapsed": true
   },
   "outputs": [
    {
     "data": {
      "text/plain": [
       "array([[ 6.1101],\n",
       "       [ 5.5277],\n",
       "       [ 8.5186],\n",
       "       [ 7.0032],\n",
       "       [ 5.8598],\n",
       "       [ 8.3829],\n",
       "       [ 7.4764],\n",
       "       [ 8.5781],\n",
       "       [ 6.4862],\n",
       "       [ 5.0546],\n",
       "       [ 5.7107],\n",
       "       [14.164 ],\n",
       "       [ 5.734 ],\n",
       "       [ 8.4084],\n",
       "       [ 5.6407],\n",
       "       [ 5.3794],\n",
       "       [ 6.3654],\n",
       "       [ 5.1301],\n",
       "       [ 6.4296],\n",
       "       [ 7.0708],\n",
       "       [ 6.1891],\n",
       "       [20.27  ],\n",
       "       [ 5.4901],\n",
       "       [ 6.3261],\n",
       "       [ 5.5649],\n",
       "       [18.945 ],\n",
       "       [12.828 ],\n",
       "       [10.957 ],\n",
       "       [13.176 ],\n",
       "       [22.203 ],\n",
       "       [ 5.2524],\n",
       "       [ 6.5894],\n",
       "       [ 9.2482],\n",
       "       [ 5.8918],\n",
       "       [ 8.2111],\n",
       "       [ 7.9334],\n",
       "       [ 8.0959],\n",
       "       [ 5.6063],\n",
       "       [12.836 ],\n",
       "       [ 6.3534],\n",
       "       [ 5.4069],\n",
       "       [ 6.8825],\n",
       "       [11.708 ],\n",
       "       [ 5.7737],\n",
       "       [ 7.8247],\n",
       "       [ 7.0931],\n",
       "       [ 5.0702],\n",
       "       [ 5.8014],\n",
       "       [11.7   ],\n",
       "       [ 5.5416],\n",
       "       [ 7.5402],\n",
       "       [ 5.3077],\n",
       "       [ 7.4239],\n",
       "       [ 7.6031],\n",
       "       [ 6.3328],\n",
       "       [ 6.3589],\n",
       "       [ 6.2742],\n",
       "       [ 5.6397],\n",
       "       [ 9.3102],\n",
       "       [ 9.4536],\n",
       "       [ 8.8254],\n",
       "       [ 5.1793],\n",
       "       [21.279 ],\n",
       "       [14.908 ],\n",
       "       [18.959 ],\n",
       "       [ 7.2182],\n",
       "       [ 8.2951],\n",
       "       [10.236 ],\n",
       "       [ 5.4994],\n",
       "       [20.341 ],\n",
       "       [10.136 ],\n",
       "       [ 7.3345],\n",
       "       [ 6.0062],\n",
       "       [ 7.2259],\n",
       "       [ 5.0269],\n",
       "       [ 6.5479],\n",
       "       [ 7.5386],\n",
       "       [ 5.0365],\n",
       "       [10.274 ],\n",
       "       [ 5.1077],\n",
       "       [ 5.7292],\n",
       "       [ 5.1884],\n",
       "       [ 6.3557],\n",
       "       [ 9.7687],\n",
       "       [ 6.5159],\n",
       "       [ 8.5172],\n",
       "       [ 9.1802],\n",
       "       [ 6.002 ],\n",
       "       [ 5.5204],\n",
       "       [ 5.0594],\n",
       "       [ 5.7077],\n",
       "       [ 7.6366],\n",
       "       [ 5.8707],\n",
       "       [ 5.3054],\n",
       "       [ 8.2934],\n",
       "       [13.394 ],\n",
       "       [ 5.4369]])"
      ]
     },
     "execution_count": 8,
     "metadata": {},
     "output_type": "execute_result"
    }
   ],
   "source": [
    "X"
   ]
  },
  {
   "cell_type": "code",
   "execution_count": 9,
   "metadata": {},
   "outputs": [
    {
     "data": {
      "text/plain": [
       "(97, 1)"
      ]
     },
     "execution_count": 9,
     "metadata": {},
     "output_type": "execute_result"
    }
   ],
   "source": [
    "X.shape"
   ]
  },
  {
   "cell_type": "markdown",
   "metadata": {},
   "source": [
    "#### Spliting the data into train and test\n",
    "https://scikit-learn.org/stable/modules/generated/sklearn.model_selection.train_test_split.html"
   ]
  },
  {
   "cell_type": "code",
   "execution_count": 10,
   "metadata": {},
   "outputs": [],
   "source": [
    "from sklearn.model_selection import train_test_split "
   ]
  },
  {
   "cell_type": "code",
   "execution_count": 11,
   "metadata": {},
   "outputs": [],
   "source": [
    "X_train, X_test, Y_train, Y_test = train_test_split( X,Y,test_size=0.33, random_state=42)"
   ]
  },
  {
   "cell_type": "markdown",
   "metadata": {},
   "source": [
    "##### Importing LinearRegrssion library from sklearn\n",
    "    Ordinary least squares Linear Regression\n",
    "    https://scikit-learn.org/stable/modules/generated/sklearn.linear_model.LinearRegression.html"
   ]
  },
  {
   "cell_type": "code",
   "execution_count": 12,
   "metadata": {},
   "outputs": [],
   "source": [
    "from sklearn.linear_model import LinearRegression\n",
    "reg = LinearRegression().fit(X_train, Y_train)"
   ]
  },
  {
   "cell_type": "code",
   "execution_count": 13,
   "metadata": {},
   "outputs": [
    {
     "data": {
      "text/plain": [
       "array([1.27257944])"
      ]
     },
     "execution_count": 13,
     "metadata": {},
     "output_type": "execute_result"
    }
   ],
   "source": [
    "reg.coef_  ## Gives coefficient"
   ]
  },
  {
   "cell_type": "code",
   "execution_count": 14,
   "metadata": {},
   "outputs": [
    {
     "data": {
      "text/plain": [
       "-4.546971116577824"
      ]
     },
     "execution_count": 14,
     "metadata": {},
     "output_type": "execute_result"
    }
   ],
   "source": [
    "reg.intercept_  ## gives intercepts"
   ]
  },
  {
   "cell_type": "code",
   "execution_count": 15,
   "metadata": {},
   "outputs": [],
   "source": [
    "y_pred=reg.predict(X_test) ## prediction for test set"
   ]
  },
  {
   "cell_type": "code",
   "execution_count": 16,
   "metadata": {
    "collapsed": true
   },
   "outputs": [
    {
     "data": {
      "text/plain": [
       "array([22.53224677,  2.33373865,  2.20457184,  3.63520565,  2.05568005,\n",
       "        7.88447565, 19.57986247, 10.35238896,  2.72034829,  3.22861652,\n",
       "        3.83856384,  3.78575179,  2.83577124, 11.77767793,  5.41058122,\n",
       "        2.91008988,  2.43961726,  2.74999939,  1.8915173 ,  4.64856065,\n",
       "        2.5051551 ,  8.35189408,  2.45145225,  2.29874272,  3.53823509,\n",
       "        2.95081242,  1.88540892,  2.74389101, 13.47784406,  4.63876179,\n",
       "       12.49795789,  2.13712513, 12.22053557])"
      ]
     },
     "execution_count": 16,
     "metadata": {},
     "output_type": "execute_result"
    }
   ],
   "source": [
    "y_pred"
   ]
  },
  {
   "cell_type": "code",
   "execution_count": 17,
   "metadata": {
    "collapsed": true
   },
   "outputs": [
    {
     "data": {
      "text/plain": [
       "array([17.929  ,  0.55657,  1.9869 ,  3.6518 ,  0.20421,  7.5435 ,\n",
       "       17.054  ,  5.3854 ,  3.2522 , 17.592  ,  5.9966 ,  0.29678,\n",
       "        1.844  , 13.501  ,  6.7318 ,  6.8233 ,  4.263  ,  3.1551 ,\n",
       "        2.8214 ,  3.3411 ,  1.0179 ,  6.6799 ,  1.0173 ,  3.5129 ,\n",
       "        5.4974 ,  1.8495 ,  3.8166 ,  0.47953, 15.505  ,  4.8852 ,\n",
       "        9.0551 , -1.22   , 14.692  ])"
      ]
     },
     "execution_count": 17,
     "metadata": {},
     "output_type": "execute_result"
    }
   ],
   "source": [
    "Y_test"
   ]
  },
  {
   "cell_type": "code",
   "execution_count": 18,
   "metadata": {},
   "outputs": [
    {
     "data": {
      "text/plain": [
       "(33,)"
      ]
     },
     "execution_count": 18,
     "metadata": {},
     "output_type": "execute_result"
    }
   ],
   "source": [
    "Y_test.shape"
   ]
  },
  {
   "cell_type": "code",
   "execution_count": 20,
   "metadata": {
    "collapsed": true
   },
   "outputs": [
    {
     "data": {
      "text/plain": [
       "array([[17.929  ],\n",
       "       [ 0.55657],\n",
       "       [ 1.9869 ],\n",
       "       [ 3.6518 ],\n",
       "       [ 0.20421],\n",
       "       [ 7.5435 ],\n",
       "       [17.054  ],\n",
       "       [ 5.3854 ],\n",
       "       [ 3.2522 ],\n",
       "       [17.592  ],\n",
       "       [ 5.9966 ],\n",
       "       [ 0.29678],\n",
       "       [ 1.844  ],\n",
       "       [13.501  ],\n",
       "       [ 6.7318 ],\n",
       "       [ 6.8233 ],\n",
       "       [ 4.263  ],\n",
       "       [ 3.1551 ],\n",
       "       [ 2.8214 ],\n",
       "       [ 3.3411 ],\n",
       "       [ 1.0179 ],\n",
       "       [ 6.6799 ],\n",
       "       [ 1.0173 ],\n",
       "       [ 3.5129 ],\n",
       "       [ 5.4974 ],\n",
       "       [ 1.8495 ],\n",
       "       [ 3.8166 ],\n",
       "       [ 0.47953],\n",
       "       [15.505  ],\n",
       "       [ 4.8852 ],\n",
       "       [ 9.0551 ],\n",
       "       [-1.22   ],\n",
       "       [14.692  ]])"
      ]
     },
     "execution_count": 20,
     "metadata": {},
     "output_type": "execute_result"
    }
   ],
   "source": [
    "Y_test.reshape(33,1)"
   ]
  },
  {
   "cell_type": "code",
   "execution_count": 23,
   "metadata": {},
   "outputs": [
    {
     "data": {
      "text/plain": [
       "(33, 1)"
      ]
     },
     "execution_count": 23,
     "metadata": {},
     "output_type": "execute_result"
    }
   ],
   "source": [
    "Y_test.reshape(33,1).shape"
   ]
  },
  {
   "cell_type": "code",
   "execution_count": 21,
   "metadata": {},
   "outputs": [
    {
     "data": {
      "text/plain": [
       "0.6216472944368592"
      ]
     },
     "execution_count": 21,
     "metadata": {},
     "output_type": "execute_result"
    }
   ],
   "source": [
    "reg.score(X_test,Y_test.reshape(33,1))  ## coefficient of determination R^2 of the prediction."
   ]
  },
  {
   "cell_type": "code",
   "execution_count": 63,
   "metadata": {},
   "outputs": [
    {
     "data": {
      "text/plain": [
       "1.0"
      ]
     },
     "execution_count": 63,
     "metadata": {},
     "output_type": "execute_result"
    }
   ],
   "source": [
    "reg.score(X_test,y_pred.reshape(33,1))"
   ]
  },
  {
   "cell_type": "code",
   "execution_count": 68,
   "metadata": {
    "collapsed": true
   },
   "outputs": [
    {
     "data": {
      "text/plain": [
       "<function matplotlib.pyplot.show(*args, **kw)>"
      ]
     },
     "execution_count": 68,
     "metadata": {},
     "output_type": "execute_result"
    },
    {
     "data": {
      "image/png": "[encoded data removed]",
      "text/plain": [
       "<Figure size 432x288 with 1 Axes>"
      ]
     },
     "metadata": {
      "needs_background": "light"
     },
     "output_type": "display_data"
    }
   ],
   "source": [
    "plt.scatter(X_test, Y_test,  color='black')\n",
    "plt.plot(X_test,y_pred, color='blue', linewidth=3)\n",
    "plt.xlabel('Population')\n",
    "plt.ylabel('Profit of food Truck')\n",
    "plt.show"
   ]
  },
  {
   "cell_type": "code",
   "execution_count": 24,
   "metadata": {},
   "outputs": [
    {
     "data": {
      "text/plain": [
       "array([18.35945879])"
      ]
     },
     "execution_count": 24,
     "metadata": {},
     "output_type": "execute_result"
    }
   ],
   "source": [
    "reg.predict(np.array([[18]]))"
   ]
  },
  {
   "cell_type": "markdown",
   "metadata": {},
   "source": [
    "### plotting Learning Curves"
   ]
  },
  {
   "cell_type": "markdown",
   "metadata": {},
   "source": [
    "### Training errors\n",
    "https://scikit-learn.org/stable/modules/generated/sklearn.metrics.mean_squared_error.html"
   ]
  },
  {
   "cell_type": "code",
   "execution_count": 106,
   "metadata": {},
   "outputs": [],
   "source": [
    "from sklearn.metrics import mean_squared_error"
   ]
  },
  {
   "cell_type": "code",
   "execution_count": 97,
   "metadata": {},
   "outputs": [],
   "source": [
    "### for understinding  how errors change and calculated \n",
    "reg.fit(X_train, Y_train)\n",
    "y_train_predict = reg.predict(X_train)\n",
    "m=len(X_train)\n",
    "train_errors=np.zeros(m)\n",
    "for i in range(1,m):\n",
    "    train_errors[i]=np.sqrt(mean_squared_error(Y_train[:i], y_train_predict[:i]))"
   ]
  },
  {
   "cell_type": "code",
   "execution_count": 98,
   "metadata": {
    "collapsed": true
   },
   "outputs": [
    {
     "data": {
      "text/plain": [
       "array([0.        , 2.16410068, 4.35426833, 4.07048704, 3.52940161,\n",
       "       3.18747874, 2.996307  , 2.85787738, 2.68286736, 3.14971818,\n",
       "       3.37566286, 3.2956364 , 3.16693167, 3.04282787, 3.04520595,\n",
       "       2.94214133, 2.86130441, 2.77904951, 3.22641649, 3.15723215,\n",
       "       3.0998867 , 3.09028068, 3.0293771 , 2.9655997 , 2.92567857,\n",
       "       2.88525633, 2.85765845, 2.81034238, 2.77955682, 2.75861636,\n",
       "       2.71304567, 2.68637457, 2.64448178, 2.66405877, 2.62736263,\n",
       "       2.63205472, 2.77307901, 2.80721527, 2.77045961, 2.78647466,\n",
       "       2.77614398, 2.75342113, 2.73744724, 2.80721127, 2.77826334,\n",
       "       2.76448603, 2.75652263, 2.73000107, 2.70391343, 2.67691462,\n",
       "       2.81159611, 2.78521381, 2.75924096, 2.9144737 , 2.89644161,\n",
       "       2.88707871, 2.92454505, 2.89912222, 2.89849561, 2.87393419,\n",
       "       2.8565846 , 2.83474764, 2.82229319, 2.85123289])"
      ]
     },
     "execution_count": 98,
     "metadata": {},
     "output_type": "execute_result"
    }
   ],
   "source": [
    "train_errors"
   ]
  },
  {
   "cell_type": "code",
   "execution_count": 102,
   "metadata": {},
   "outputs": [],
   "source": [
    "## Implementing the code  for checking \n",
    "m=len(X_train)\n",
    "train_errors=np.zeros(m)\n",
    "test_errors=np.zeros(m)\n",
    "for i in range(1,m):\n",
    "    # Training set error\n",
    "    reg.fit(X_train[:i], Y_train[:i])\n",
    "    y_train_predict = reg.predict(X_train[:i])\n",
    "    train_errors[i]=np.sqrt(mean_squared_error(Y_train[:i], y_train_predict[:i]))\n",
    "    # Test set errors\n",
    "    y_test_predict = reg.predict(X_test[:i])\n",
    "    test_errors[i]=np.sqrt(mean_squared_error(Y_test[:i], y_test_predict[:i]))"
   ]
  },
  {
   "cell_type": "code",
   "execution_count": 103,
   "metadata": {
    "collapsed": true
   },
   "outputs": [
    {
     "data": {
      "text/plain": [
       "array([0.00000000e+00, 0.00000000e+00, 2.71153649e-15, 2.30855997e+00,\n",
       "       3.52013709e+00, 3.16540007e+00, 2.99412491e+00, 2.84408328e+00,\n",
       "       2.67505927e+00, 3.09587569e+00, 3.34728222e+00, 3.27638546e+00,\n",
       "       3.15614648e+00, 3.03440022e+00, 2.97214290e+00, 2.87138757e+00,\n",
       "       2.79163313e+00, 2.71546473e+00, 3.14758289e+00, 3.08615659e+00,\n",
       "       3.05972114e+00, 3.03907883e+00, 2.98790007e+00, 2.92902697e+00,\n",
       "       2.90299915e+00, 2.86877191e+00, 2.84659484e+00, 2.79914069e+00,\n",
       "       2.76522364e+00, 2.74014699e+00, 2.69413483e+00, 2.66976218e+00,\n",
       "       2.62814184e+00, 2.65529591e+00, 2.62047751e+00, 2.62057149e+00,\n",
       "       2.75759185e+00, 2.80341627e+00, 2.76644244e+00, 2.78031612e+00,\n",
       "       2.76763226e+00, 2.74808796e+00, 2.73462749e+00, 2.80717364e+00,\n",
       "       2.77812025e+00, 2.76363668e+00, 2.75182504e+00, 2.72503980e+00,\n",
       "       2.69929329e+00, 2.67446495e+00, 2.80743936e+00, 2.78137370e+00,\n",
       "       2.75718453e+00, 2.90789717e+00, 2.88752562e+00, 2.88209715e+00,\n",
       "       2.92380036e+00, 2.89851827e+00, 2.89843348e+00, 2.87386850e+00,\n",
       "       2.85646907e+00, 2.83449916e+00, 2.82131258e+00, 2.85122324e+00])"
      ]
     },
     "execution_count": 103,
     "metadata": {},
     "output_type": "execute_result"
    }
   ],
   "source": [
    "train_errors"
   ]
  },
  {
   "cell_type": "code",
   "execution_count": 104,
   "metadata": {
    "collapsed": true
   },
   "outputs": [
    {
     "data": {
      "text/plain": [
       "array([ 0.        , 17.00205   , 37.73764121, 31.06719577,  2.62928466,\n",
       "        2.39948374,  2.26110453,  2.31057266,  2.83606677,  3.10538286,\n",
       "        5.44468121,  5.14978488,  4.98684115,  4.77937228,  4.82853753,\n",
       "        4.67867172,  4.64713544,  4.51506831,  4.30547446,  4.22810641,\n",
       "        4.06639153,  3.96175775,  3.90258665,  3.83363112,  3.7339481 ,\n",
       "        3.67877592,  3.61411842,  3.57879256,  3.561584  ,  3.53174119,\n",
       "        3.4742078 ,  3.48021191,  3.46874861,  3.39690451,  3.38989856,\n",
       "        3.41596606,  3.41638908,  3.37188334,  3.37260216,  3.36278527,\n",
       "        3.34380772,  3.33402655,  3.31955019,  3.33202714,  3.33296253,\n",
       "        3.32658938,  3.29691458,  3.30140636,  3.29676932,  3.31573805,\n",
       "        3.28933516,  3.28996253,  3.30223771,  3.30640256,  3.30456363,\n",
       "        3.3102084 ,  3.32574964,  3.32525108,  3.33195295,  3.33244907,\n",
       "        3.33163507,  3.33264242,  3.33922118,  3.32599448])"
      ]
     },
     "execution_count": 104,
     "metadata": {},
     "output_type": "execute_result"
    }
   ],
   "source": [
    "test_errors"
   ]
  },
  {
   "cell_type": "code",
   "execution_count": 105,
   "metadata": {},
   "outputs": [
    {
     "data": {
      "text/plain": [
       "Text(0, 0.5, 'RMSE')"
      ]
     },
     "execution_count": 105,
     "metadata": {},
     "output_type": "execute_result"
    },
    {
     "data": {
      "image/png": "[encoded data removed]",
      "text/plain": [
       "<Figure size 432x288 with 1 Axes>"
      ]
     },
     "metadata": {
      "needs_background": "light"
     },
     "output_type": "display_data"
    }
   ],
   "source": [
    "plt.plot(train_errors, \"r-+\", linewidth=2, label=\"train\")\n",
    "plt.plot(test_errors, \"b-\", linewidth=3, label=\"test\")\n",
    "plt.legend(loc=\"upper right\", fontsize=14)   \n",
    "plt.xlabel(\"Training set size\", fontsize=14)\n",
    "plt.ylabel(\"RMSE\", fontsize=14)   "
   ]
  },
  {
   "cell_type": "markdown",
   "metadata": {},
   "source": [
    "### Best of Luck! Happy Learning!!\n",
    "### Do it with Passion or not at all!!!"
   ]
  }
 ],
 "metadata": {
  "kernelspec": {
   "display_name": "Python 3",
   "language": "python",
   "name": "python3"
  },
  "language_info": {
   "codemirror_mode": {
    "name": "ipython",
    "version": 3
   },
   "file_extension": ".py",
   "mimetype": "text/x-python",
   "name": "python",
   "nbconvert_exporter": "python",
   "pygments_lexer": "ipython3",
   "version": "3.7.1"
  }
 },
 "nbformat": 4,
 "nbformat_minor": 2
}
